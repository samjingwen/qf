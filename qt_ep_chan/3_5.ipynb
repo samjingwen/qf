{
 "cells": [
  {
   "cell_type": "code",
   "execution_count": 3,
   "id": "586135f8",
   "metadata": {},
   "outputs": [],
   "source": [
    "import yfinance as yf\n",
    "import pandas as pd\n",
    "import numpy as np\n",
    "import matplotlib.pyplot as plt"
   ]
  },
  {
   "cell_type": "code",
   "execution_count": 4,
   "id": "06525df8",
   "metadata": {},
   "outputs": [],
   "source": [
    "def calculate_max_drawdown(prices: pd.Series):\n",
    "    cumulative_max = prices.cummax()\n",
    "    drawdown = (prices - cumulative_max) / cumulative_max\n",
    "    max_drawdown = drawdown.min()\n",
    "    \n",
    "    end_of_max_dd = drawdown.idxmin()\n",
    "    start_of_max_dd = prices[:end_of_max_dd][prices[:end_of_max_dd] == prices[:end_of_max_dd].cummax()].index[-1]\n",
    "    max_dd_duration = (end_of_max_dd - start_of_max_dd).days\n",
    "\n",
    "    return max_drawdown, max_dd_duration"
   ]
  },
  {
   "cell_type": "code",
   "execution_count": null,
   "id": "7d4edfd9",
   "metadata": {},
   "outputs": [
    {
     "name": "stderr",
     "output_type": "stream",
     "text": [
      "[*********************100%***********************]  1 of 1 completed"
     ]
    },
    {
     "name": "stdout",
     "output_type": "stream",
     "text": [
      "AAPL Max Drawdown: -31.43%\n",
      "AAPL Max Drawdown Duration: 40 days\n"
     ]
    },
    {
     "name": "stderr",
     "output_type": "stream",
     "text": [
      "\n"
     ]
    }
   ],
   "source": [
    "df = yf.download(\"AAPL\", group_by='Ticker', start=\"2020-01-01\", end=\"2023-12-31\")\n",
    "aapl = df['AAPL']\n",
    "\n",
    "prices = aapl['Close']\n",
    "max_dd, duration = calculate_max_drawdown(prices)\n",
    "print(f\"AAPL Max Drawdown: {max_dd:.2%}\")\n",
    "print(f\"AAPL Max Drawdown Duration: {duration} days\")"
   ]
  },
  {
   "cell_type": "code",
   "execution_count": null,
   "id": "6cf13745",
   "metadata": {},
   "outputs": [],
   "source": []
  },
  {
   "cell_type": "code",
   "execution_count": null,
   "id": "7da4d79d",
   "metadata": {},
   "outputs": [],
   "source": []
  }
 ],
 "metadata": {
  "kernelspec": {
   "display_name": "3.13.1",
   "language": "python",
   "name": "python3"
  },
  "language_info": {
   "codemirror_mode": {
    "name": "ipython",
    "version": 3
   },
   "file_extension": ".py",
   "mimetype": "text/x-python",
   "name": "python",
   "nbconvert_exporter": "python",
   "pygments_lexer": "ipython3",
   "version": "3.13.1"
  }
 },
 "nbformat": 4,
 "nbformat_minor": 5
}
